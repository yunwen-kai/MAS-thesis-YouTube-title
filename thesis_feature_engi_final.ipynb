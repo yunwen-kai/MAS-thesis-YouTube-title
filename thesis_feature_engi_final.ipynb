{
  "nbformat": 4,
  "nbformat_minor": 0,
  "metadata": {
    "colab": {
      "name": "thesis_feature_engi_final.ipynb",
      "provenance": [],
      "toc_visible": true
    },
    "kernelspec": {
      "display_name": "Python 3",
      "language": "python",
      "name": "python3"
    },
    "language_info": {
      "codemirror_mode": {
        "name": "ipython",
        "version": 3
      },
      "file_extension": ".py",
      "mimetype": "text/x-python",
      "name": "python",
      "nbconvert_exporter": "python",
      "pygments_lexer": "ipython3",
      "version": "3.7.3"
    }
  },
  "cells": [
    {
      "cell_type": "markdown",
      "metadata": {
        "id": "QZR8kqmfRssU"
      },
      "source": [
        "# Feature Engineering for YouTube Titles"
      ]
    },
    {
      "cell_type": "markdown",
      "metadata": {
        "id": "DpFSVqyVRss1"
      },
      "source": [
        "## All other imports are here:"
      ]
    },
    {
      "cell_type": "code",
      "metadata": {
        "id": "Scm6cPeURss2"
      },
      "source": [
        "from dataclasses import dataclass, field\n",
        "import json\n",
        "import logging\n",
        "import os\n",
        "from typing import Optional\n",
        "\n",
        "import numpy as np\n",
        "import pandas as pd\n",
        "\n",
        "logging.basicConfig(level=logging.INFO)\n",
        "os.environ['COMET_MODE'] = 'DISABLED'\n"
      ],
      "execution_count": null,
      "outputs": []
    },
    {
      "cell_type": "markdown",
      "metadata": {
        "id": "hjUqUXgpRstr"
      },
      "source": [
        "## Dataset\n"
      ]
    },
    {
      "cell_type": "code",
      "metadata": {
        "colab": {
          "base_uri": "https://localhost:8080/"
        },
        "id": "YssYzENTFe2n",
        "outputId": "d105fbff-1d76-47c2-e8d6-a6186e08e637"
      },
      "source": [
        "from google.colab import drive\n",
        "drive.mount('/content/gdrive')"
      ],
      "execution_count": null,
      "outputs": [
        {
          "output_type": "stream",
          "name": "stdout",
          "text": [
            "Mounted at /content/gdrive\n"
          ]
        }
      ]
    },
    {
      "cell_type": "code",
      "metadata": {
        "id": "NHsYfDtLFhZ9"
      },
      "source": [
        "import pandas as pd\n",
        "group2 = pd.read_csv(\"/content/gdrive/My Drive/MAS-thesis/full_youtuber_group2_v5.csv\")\n",
        "group1 = pd.read_csv(\"/content/gdrive/My Drive/MAS-thesis/full_youtuber_group1_v5.csv\")\n"
      ],
      "execution_count": null,
      "outputs": []
    },
    {
      "cell_type": "code",
      "metadata": {
        "colab": {
          "base_uri": "https://localhost:8080/",
          "height": 678
        },
        "id": "xVwh2zzm19Nn",
        "outputId": "0e6562cd-5c17-4e09-805d-d75af606cff2"
      },
      "source": [
        "full_df = group1.append(group2, ignore_index=True)\n",
        "full_df.head()"
      ],
      "execution_count": null,
      "outputs": [
        {
          "output_type": "execute_result",
          "data": {
            "text/html": [
              "<div>\n",
              "<style scoped>\n",
              "    .dataframe tbody tr th:only-of-type {\n",
              "        vertical-align: middle;\n",
              "    }\n",
              "\n",
              "    .dataframe tbody tr th {\n",
              "        vertical-align: top;\n",
              "    }\n",
              "\n",
              "    .dataframe thead th {\n",
              "        text-align: right;\n",
              "    }\n",
              "</style>\n",
              "<table border=\"1\" class=\"dataframe\">\n",
              "  <thead>\n",
              "    <tr style=\"text-align: right;\">\n",
              "      <th></th>\n",
              "      <th>channelTitle</th>\n",
              "      <th>publishedAt</th>\n",
              "      <th>title</th>\n",
              "      <th>description</th>\n",
              "      <th>viewCount</th>\n",
              "      <th>likeCount</th>\n",
              "      <th>dislikeCount</th>\n",
              "      <th>commentCount</th>\n",
              "      <th>categoryId</th>\n",
              "      <th>duration</th>\n",
              "      <th>dimension</th>\n",
              "      <th>definition</th>\n",
              "      <th>caption</th>\n",
              "      <th>subscriberCount</th>\n",
              "      <th>rank</th>\n",
              "      <th>vid_length</th>\n",
              "      <th>published_day</th>\n",
              "      <th>extract_dates</th>\n",
              "      <th>passed_day</th>\n",
              "    </tr>\n",
              "  </thead>\n",
              "  <tbody>\n",
              "    <tr>\n",
              "      <th>0</th>\n",
              "      <td>Naomi Boyer</td>\n",
              "      <td>2018-08-23T15:11:37Z</td>\n",
              "      <td>Simple Things You Can Do To Look Better | Enha...</td>\n",
              "      <td>In this video, I give you a couple simple tips...</td>\n",
              "      <td>1941265</td>\n",
              "      <td>30043</td>\n",
              "      <td>2768</td>\n",
              "      <td>779</td>\n",
              "      <td>26</td>\n",
              "      <td>PT10M4S</td>\n",
              "      <td>2d</td>\n",
              "      <td>hd</td>\n",
              "      <td>False</td>\n",
              "      <td>440000</td>\n",
              "      <td>3</td>\n",
              "      <td>10</td>\n",
              "      <td>2018-08-23</td>\n",
              "      <td>2021-03-06</td>\n",
              "      <td>926.0</td>\n",
              "    </tr>\n",
              "    <tr>\n",
              "      <th>1</th>\n",
              "      <td>Naomi Boyer</td>\n",
              "      <td>2017-11-21T15:59:25Z</td>\n",
              "      <td>How to Look Good Everyday | Style Secrets to L...</td>\n",
              "      <td>SUBSCRIBE TO MY CHANNEL HERE! https://www.yout...</td>\n",
              "      <td>1294431</td>\n",
              "      <td>25802</td>\n",
              "      <td>1606</td>\n",
              "      <td>1007</td>\n",
              "      <td>26</td>\n",
              "      <td>PT12M25S</td>\n",
              "      <td>2d</td>\n",
              "      <td>hd</td>\n",
              "      <td>False</td>\n",
              "      <td>440000</td>\n",
              "      <td>3</td>\n",
              "      <td>12</td>\n",
              "      <td>2017-11-21</td>\n",
              "      <td>2021-03-06</td>\n",
              "      <td>1201.0</td>\n",
              "    </tr>\n",
              "    <tr>\n",
              "      <th>2</th>\n",
              "      <td>Naomi Boyer</td>\n",
              "      <td>2017-04-13T14:55:23Z</td>\n",
              "      <td>How To Look Stylish Everyday | 5 Steps to Gett...</td>\n",
              "      <td>This video is about how to look stylish everyd...</td>\n",
              "      <td>1208427</td>\n",
              "      <td>18659</td>\n",
              "      <td>1046</td>\n",
              "      <td>502</td>\n",
              "      <td>26</td>\n",
              "      <td>PT6M44S</td>\n",
              "      <td>2d</td>\n",
              "      <td>hd</td>\n",
              "      <td>False</td>\n",
              "      <td>440000</td>\n",
              "      <td>3</td>\n",
              "      <td>6</td>\n",
              "      <td>2017-04-13</td>\n",
              "      <td>2021-03-06</td>\n",
              "      <td>1423.0</td>\n",
              "    </tr>\n",
              "    <tr>\n",
              "      <th>3</th>\n",
              "      <td>Naomi Boyer</td>\n",
              "      <td>2017-07-18T12:25:32Z</td>\n",
              "      <td>How To Build a Classic Wardrobe</td>\n",
              "      <td>SUBSCRIBE TO MY CHANNEL HERE! https://www.yout...</td>\n",
              "      <td>1047244</td>\n",
              "      <td>20922</td>\n",
              "      <td>882</td>\n",
              "      <td>478</td>\n",
              "      <td>26</td>\n",
              "      <td>PT9M10S</td>\n",
              "      <td>2d</td>\n",
              "      <td>hd</td>\n",
              "      <td>False</td>\n",
              "      <td>440000</td>\n",
              "      <td>3</td>\n",
              "      <td>9</td>\n",
              "      <td>2017-07-18</td>\n",
              "      <td>2021-03-06</td>\n",
              "      <td>1327.0</td>\n",
              "    </tr>\n",
              "    <tr>\n",
              "      <th>4</th>\n",
              "      <td>Naomi Boyer</td>\n",
              "      <td>2017-03-21T15:54:46Z</td>\n",
              "      <td>Casual Date Night Outfits + Lookbook | What to...</td>\n",
              "      <td>SUBSCRIBE TO MY CHANNEL HERE! https://www.yout...</td>\n",
              "      <td>951186</td>\n",
              "      <td>16668</td>\n",
              "      <td>463</td>\n",
              "      <td>407</td>\n",
              "      <td>26</td>\n",
              "      <td>PT4M31S</td>\n",
              "      <td>2d</td>\n",
              "      <td>hd</td>\n",
              "      <td>False</td>\n",
              "      <td>440000</td>\n",
              "      <td>3</td>\n",
              "      <td>4</td>\n",
              "      <td>2017-03-21</td>\n",
              "      <td>2021-03-06</td>\n",
              "      <td>1446.0</td>\n",
              "    </tr>\n",
              "  </tbody>\n",
              "</table>\n",
              "</div>"
            ],
            "text/plain": [
              "  channelTitle           publishedAt  ... extract_dates passed_day\n",
              "0  Naomi Boyer  2018-08-23T15:11:37Z  ...    2021-03-06      926.0\n",
              "1  Naomi Boyer  2017-11-21T15:59:25Z  ...    2021-03-06     1201.0\n",
              "2  Naomi Boyer  2017-04-13T14:55:23Z  ...    2021-03-06     1423.0\n",
              "3  Naomi Boyer  2017-07-18T12:25:32Z  ...    2021-03-06     1327.0\n",
              "4  Naomi Boyer  2017-03-21T15:54:46Z  ...    2021-03-06     1446.0\n",
              "\n",
              "[5 rows x 19 columns]"
            ]
          },
          "metadata": {},
          "execution_count": 5
        }
      ]
    },
    {
      "cell_type": "code",
      "metadata": {
        "colab": {
          "base_uri": "https://localhost:8080/"
        },
        "id": "YNa-Xmaz2oHG",
        "outputId": "4be17f38-8c73-418f-d069-4f229034d0bd"
      },
      "source": [
        "print(len(group1),len(group2),len(full_df))"
      ],
      "execution_count": null,
      "outputs": [
        {
          "output_type": "stream",
          "name": "stdout",
          "text": [
            "3469 3520 6989\n"
          ]
        }
      ]
    },
    {
      "cell_type": "code",
      "metadata": {
        "colab": {
          "base_uri": "https://localhost:8080/",
          "height": 695
        },
        "id": "TzWy4gw6vlp1",
        "outputId": "65d876cd-e53c-4146-d571-479d04b1659d"
      },
      "source": [
        "full_df['rank_2'] = full_df.groupby(['channelTitle'])['viewCount'].transform(\n",
        "                     lambda x: pd.qcut(x, 2, labels=[0, 1]))\n",
        "full_df.head()"
      ],
      "execution_count": null,
      "outputs": [
        {
          "output_type": "stream",
          "name": "stderr",
          "text": [
            "INFO:numexpr.utils:NumExpr defaulting to 2 threads.\n"
          ]
        },
        {
          "output_type": "execute_result",
          "data": {
            "text/html": [
              "<div>\n",
              "<style scoped>\n",
              "    .dataframe tbody tr th:only-of-type {\n",
              "        vertical-align: middle;\n",
              "    }\n",
              "\n",
              "    .dataframe tbody tr th {\n",
              "        vertical-align: top;\n",
              "    }\n",
              "\n",
              "    .dataframe thead th {\n",
              "        text-align: right;\n",
              "    }\n",
              "</style>\n",
              "<table border=\"1\" class=\"dataframe\">\n",
              "  <thead>\n",
              "    <tr style=\"text-align: right;\">\n",
              "      <th></th>\n",
              "      <th>channelTitle</th>\n",
              "      <th>publishedAt</th>\n",
              "      <th>title</th>\n",
              "      <th>description</th>\n",
              "      <th>viewCount</th>\n",
              "      <th>likeCount</th>\n",
              "      <th>dislikeCount</th>\n",
              "      <th>commentCount</th>\n",
              "      <th>categoryId</th>\n",
              "      <th>duration</th>\n",
              "      <th>dimension</th>\n",
              "      <th>definition</th>\n",
              "      <th>caption</th>\n",
              "      <th>subscriberCount</th>\n",
              "      <th>rank</th>\n",
              "      <th>vid_length</th>\n",
              "      <th>published_day</th>\n",
              "      <th>extract_dates</th>\n",
              "      <th>passed_day</th>\n",
              "      <th>rank_2</th>\n",
              "    </tr>\n",
              "  </thead>\n",
              "  <tbody>\n",
              "    <tr>\n",
              "      <th>0</th>\n",
              "      <td>Naomi Boyer</td>\n",
              "      <td>2018-08-23T15:11:37Z</td>\n",
              "      <td>Simple Things You Can Do To Look Better | Enha...</td>\n",
              "      <td>In this video, I give you a couple simple tips...</td>\n",
              "      <td>1941265</td>\n",
              "      <td>30043</td>\n",
              "      <td>2768</td>\n",
              "      <td>779</td>\n",
              "      <td>26</td>\n",
              "      <td>PT10M4S</td>\n",
              "      <td>2d</td>\n",
              "      <td>hd</td>\n",
              "      <td>False</td>\n",
              "      <td>440000</td>\n",
              "      <td>3</td>\n",
              "      <td>10</td>\n",
              "      <td>2018-08-23</td>\n",
              "      <td>2021-03-06</td>\n",
              "      <td>926.0</td>\n",
              "      <td>1</td>\n",
              "    </tr>\n",
              "    <tr>\n",
              "      <th>1</th>\n",
              "      <td>Naomi Boyer</td>\n",
              "      <td>2017-11-21T15:59:25Z</td>\n",
              "      <td>How to Look Good Everyday | Style Secrets to L...</td>\n",
              "      <td>SUBSCRIBE TO MY CHANNEL HERE! https://www.yout...</td>\n",
              "      <td>1294431</td>\n",
              "      <td>25802</td>\n",
              "      <td>1606</td>\n",
              "      <td>1007</td>\n",
              "      <td>26</td>\n",
              "      <td>PT12M25S</td>\n",
              "      <td>2d</td>\n",
              "      <td>hd</td>\n",
              "      <td>False</td>\n",
              "      <td>440000</td>\n",
              "      <td>3</td>\n",
              "      <td>12</td>\n",
              "      <td>2017-11-21</td>\n",
              "      <td>2021-03-06</td>\n",
              "      <td>1201.0</td>\n",
              "      <td>1</td>\n",
              "    </tr>\n",
              "    <tr>\n",
              "      <th>2</th>\n",
              "      <td>Naomi Boyer</td>\n",
              "      <td>2017-04-13T14:55:23Z</td>\n",
              "      <td>How To Look Stylish Everyday | 5 Steps to Gett...</td>\n",
              "      <td>This video is about how to look stylish everyd...</td>\n",
              "      <td>1208427</td>\n",
              "      <td>18659</td>\n",
              "      <td>1046</td>\n",
              "      <td>502</td>\n",
              "      <td>26</td>\n",
              "      <td>PT6M44S</td>\n",
              "      <td>2d</td>\n",
              "      <td>hd</td>\n",
              "      <td>False</td>\n",
              "      <td>440000</td>\n",
              "      <td>3</td>\n",
              "      <td>6</td>\n",
              "      <td>2017-04-13</td>\n",
              "      <td>2021-03-06</td>\n",
              "      <td>1423.0</td>\n",
              "      <td>1</td>\n",
              "    </tr>\n",
              "    <tr>\n",
              "      <th>3</th>\n",
              "      <td>Naomi Boyer</td>\n",
              "      <td>2017-07-18T12:25:32Z</td>\n",
              "      <td>How To Build a Classic Wardrobe</td>\n",
              "      <td>SUBSCRIBE TO MY CHANNEL HERE! https://www.yout...</td>\n",
              "      <td>1047244</td>\n",
              "      <td>20922</td>\n",
              "      <td>882</td>\n",
              "      <td>478</td>\n",
              "      <td>26</td>\n",
              "      <td>PT9M10S</td>\n",
              "      <td>2d</td>\n",
              "      <td>hd</td>\n",
              "      <td>False</td>\n",
              "      <td>440000</td>\n",
              "      <td>3</td>\n",
              "      <td>9</td>\n",
              "      <td>2017-07-18</td>\n",
              "      <td>2021-03-06</td>\n",
              "      <td>1327.0</td>\n",
              "      <td>1</td>\n",
              "    </tr>\n",
              "    <tr>\n",
              "      <th>4</th>\n",
              "      <td>Naomi Boyer</td>\n",
              "      <td>2017-03-21T15:54:46Z</td>\n",
              "      <td>Casual Date Night Outfits + Lookbook | What to...</td>\n",
              "      <td>SUBSCRIBE TO MY CHANNEL HERE! https://www.yout...</td>\n",
              "      <td>951186</td>\n",
              "      <td>16668</td>\n",
              "      <td>463</td>\n",
              "      <td>407</td>\n",
              "      <td>26</td>\n",
              "      <td>PT4M31S</td>\n",
              "      <td>2d</td>\n",
              "      <td>hd</td>\n",
              "      <td>False</td>\n",
              "      <td>440000</td>\n",
              "      <td>3</td>\n",
              "      <td>4</td>\n",
              "      <td>2017-03-21</td>\n",
              "      <td>2021-03-06</td>\n",
              "      <td>1446.0</td>\n",
              "      <td>1</td>\n",
              "    </tr>\n",
              "  </tbody>\n",
              "</table>\n",
              "</div>"
            ],
            "text/plain": [
              "  channelTitle           publishedAt  ... passed_day rank_2\n",
              "0  Naomi Boyer  2018-08-23T15:11:37Z  ...      926.0      1\n",
              "1  Naomi Boyer  2017-11-21T15:59:25Z  ...     1201.0      1\n",
              "2  Naomi Boyer  2017-04-13T14:55:23Z  ...     1423.0      1\n",
              "3  Naomi Boyer  2017-07-18T12:25:32Z  ...     1327.0      1\n",
              "4  Naomi Boyer  2017-03-21T15:54:46Z  ...     1446.0      1\n",
              "\n",
              "[5 rows x 20 columns]"
            ]
          },
          "metadata": {},
          "execution_count": 7
        }
      ]
    },
    {
      "cell_type": "markdown",
      "metadata": {
        "id": "auA6sFHLDtQB"
      },
      "source": [
        "## Select column"
      ]
    },
    {
      "cell_type": "code",
      "metadata": {
        "colab": {
          "base_uri": "https://localhost:8080/",
          "height": 206
        },
        "id": "BaARfl_vrjC5",
        "outputId": "662f9767-0966-4caf-f714-c2b2d15bfb5f"
      },
      "source": [
        "df = full_df[['title','rank_2','vid_length','passed_day']]\n",
        "df = df.rename({'rank_2': 'labels'}, axis='columns')\n",
        "\n",
        "df.head()"
      ],
      "execution_count": null,
      "outputs": [
        {
          "output_type": "execute_result",
          "data": {
            "text/html": [
              "<div>\n",
              "<style scoped>\n",
              "    .dataframe tbody tr th:only-of-type {\n",
              "        vertical-align: middle;\n",
              "    }\n",
              "\n",
              "    .dataframe tbody tr th {\n",
              "        vertical-align: top;\n",
              "    }\n",
              "\n",
              "    .dataframe thead th {\n",
              "        text-align: right;\n",
              "    }\n",
              "</style>\n",
              "<table border=\"1\" class=\"dataframe\">\n",
              "  <thead>\n",
              "    <tr style=\"text-align: right;\">\n",
              "      <th></th>\n",
              "      <th>title</th>\n",
              "      <th>labels</th>\n",
              "      <th>vid_length</th>\n",
              "      <th>passed_day</th>\n",
              "    </tr>\n",
              "  </thead>\n",
              "  <tbody>\n",
              "    <tr>\n",
              "      <th>0</th>\n",
              "      <td>Simple Things You Can Do To Look Better | Enha...</td>\n",
              "      <td>1</td>\n",
              "      <td>10</td>\n",
              "      <td>926.0</td>\n",
              "    </tr>\n",
              "    <tr>\n",
              "      <th>1</th>\n",
              "      <td>How to Look Good Everyday | Style Secrets to L...</td>\n",
              "      <td>1</td>\n",
              "      <td>12</td>\n",
              "      <td>1201.0</td>\n",
              "    </tr>\n",
              "    <tr>\n",
              "      <th>2</th>\n",
              "      <td>How To Look Stylish Everyday | 5 Steps to Gett...</td>\n",
              "      <td>1</td>\n",
              "      <td>6</td>\n",
              "      <td>1423.0</td>\n",
              "    </tr>\n",
              "    <tr>\n",
              "      <th>3</th>\n",
              "      <td>How To Build a Classic Wardrobe</td>\n",
              "      <td>1</td>\n",
              "      <td>9</td>\n",
              "      <td>1327.0</td>\n",
              "    </tr>\n",
              "    <tr>\n",
              "      <th>4</th>\n",
              "      <td>Casual Date Night Outfits + Lookbook | What to...</td>\n",
              "      <td>1</td>\n",
              "      <td>4</td>\n",
              "      <td>1446.0</td>\n",
              "    </tr>\n",
              "  </tbody>\n",
              "</table>\n",
              "</div>"
            ],
            "text/plain": [
              "                                               title  ... passed_day\n",
              "0  Simple Things You Can Do To Look Better | Enha...  ...      926.0\n",
              "1  How to Look Good Everyday | Style Secrets to L...  ...     1201.0\n",
              "2  How To Look Stylish Everyday | 5 Steps to Gett...  ...     1423.0\n",
              "3                    How To Build a Classic Wardrobe  ...     1327.0\n",
              "4  Casual Date Night Outfits + Lookbook | What to...  ...     1446.0\n",
              "\n",
              "[5 rows x 4 columns]"
            ]
          },
          "metadata": {},
          "execution_count": 8
        }
      ]
    },
    {
      "cell_type": "markdown",
      "metadata": {
        "id": "0UWpFvxyL1mB"
      },
      "source": [
        "## Remove punctuation and stop words"
      ]
    },
    {
      "cell_type": "code",
      "metadata": {
        "id": "3dReJyV_MSzq"
      },
      "source": [
        "df[\"title_2\"] = df['title'].str.replace('[^\\w\\s]','')\n",
        "df[\"title_3\"] = df[\"title_2\"].str.replace('\\d+', '')"
      ],
      "execution_count": null,
      "outputs": []
    },
    {
      "cell_type": "code",
      "metadata": {
        "id": "RCtPj2sfVx0f"
      },
      "source": [
        "name_word = {\"naomi\",\"boyer\",\"ashley\",\"brooke\",\"forella\",\"zelaya\",\"chriselle\",\"lim\",\"aelx\",\n",
        "  \"centomo\",\"audrey\",\"coyne\",\"amy\",\"lee\",\"misssperu\",\"vanessa\",\"ziletti\",\"magicotrucco\",\"aimee\",\"song\",\"style\",\n",
        "  \"jenn\",\"im\",\"summer\",\"mckeen\",\"tess\",\"christine\",\"sarah\",\"rae\",\"vargas\", \"kelsey\",\"simone\",\"mel\",\"joy\",\"olivia\",\"jade\"}\n",
        "\n",
        "df['text'] = df['title_3'].apply(lambda x: ' '.join([word for word in x.split() if word.lower() not in (name_word)]))\n",
        "\n",
        "df = df.drop(columns = ['title', 'title_2',\"title_3\"])\n",
        "# df"
      ],
      "execution_count": null,
      "outputs": []
    },
    {
      "cell_type": "markdown",
      "metadata": {
        "id": "ZeitqaEsDerg"
      },
      "source": [
        "## Calculate length/number of capital words of the title"
      ]
    },
    {
      "cell_type": "code",
      "metadata": {
        "id": "GcJ4Di2mEIqb",
        "colab": {
          "base_uri": "https://localhost:8080/",
          "height": 206
        },
        "outputId": "604395a4-11a8-4e8a-c51f-cfa283d1b124"
      },
      "source": [
        "df2 = df\n",
        "df2['title_len'] = df2['text'].str.split().str.len()\n",
        "df2['Uppercase'] = df2['text'].str.findall(r'[A-Z]').str.len()\n",
        "df2['Uppercase_ratio'] = df2['Uppercase'] / df2['title_len']\n",
        "df2.head()"
      ],
      "execution_count": null,
      "outputs": [
        {
          "output_type": "execute_result",
          "data": {
            "text/html": [
              "<div>\n",
              "<style scoped>\n",
              "    .dataframe tbody tr th:only-of-type {\n",
              "        vertical-align: middle;\n",
              "    }\n",
              "\n",
              "    .dataframe tbody tr th {\n",
              "        vertical-align: top;\n",
              "    }\n",
              "\n",
              "    .dataframe thead th {\n",
              "        text-align: right;\n",
              "    }\n",
              "</style>\n",
              "<table border=\"1\" class=\"dataframe\">\n",
              "  <thead>\n",
              "    <tr style=\"text-align: right;\">\n",
              "      <th></th>\n",
              "      <th>labels</th>\n",
              "      <th>vid_length</th>\n",
              "      <th>passed_day</th>\n",
              "      <th>text</th>\n",
              "      <th>title_len</th>\n",
              "      <th>Uppercase</th>\n",
              "      <th>Uppercase_ratio</th>\n",
              "    </tr>\n",
              "  </thead>\n",
              "  <tbody>\n",
              "    <tr>\n",
              "      <th>0</th>\n",
              "      <td>1</td>\n",
              "      <td>10</td>\n",
              "      <td>926.0</td>\n",
              "      <td>Simple Things You Can Do To Look Better Enhanc...</td>\n",
              "      <td>11</td>\n",
              "      <td>11</td>\n",
              "      <td>1.000000</td>\n",
              "    </tr>\n",
              "    <tr>\n",
              "      <th>1</th>\n",
              "      <td>1</td>\n",
              "      <td>12</td>\n",
              "      <td>1201.0</td>\n",
              "      <td>How to Look Good Everyday Secrets to Live By</td>\n",
              "      <td>9</td>\n",
              "      <td>7</td>\n",
              "      <td>0.777778</td>\n",
              "    </tr>\n",
              "    <tr>\n",
              "      <th>2</th>\n",
              "      <td>1</td>\n",
              "      <td>6</td>\n",
              "      <td>1423.0</td>\n",
              "      <td>How To Look Stylish Everyday Steps to Getting ...</td>\n",
              "      <td>9</td>\n",
              "      <td>8</td>\n",
              "      <td>0.888889</td>\n",
              "    </tr>\n",
              "    <tr>\n",
              "      <th>3</th>\n",
              "      <td>1</td>\n",
              "      <td>9</td>\n",
              "      <td>1327.0</td>\n",
              "      <td>How To Build a Classic Wardrobe</td>\n",
              "      <td>6</td>\n",
              "      <td>5</td>\n",
              "      <td>0.833333</td>\n",
              "    </tr>\n",
              "    <tr>\n",
              "      <th>4</th>\n",
              "      <td>1</td>\n",
              "      <td>4</td>\n",
              "      <td>1446.0</td>\n",
              "      <td>Casual Date Night Outfits Lookbook What to Wea...</td>\n",
              "      <td>11</td>\n",
              "      <td>9</td>\n",
              "      <td>0.818182</td>\n",
              "    </tr>\n",
              "  </tbody>\n",
              "</table>\n",
              "</div>"
            ],
            "text/plain": [
              "  labels  vid_length  passed_day  ... title_len  Uppercase  Uppercase_ratio\n",
              "0      1          10       926.0  ...        11         11         1.000000\n",
              "1      1          12      1201.0  ...         9          7         0.777778\n",
              "2      1           6      1423.0  ...         9          8         0.888889\n",
              "3      1           9      1327.0  ...         6          5         0.833333\n",
              "4      1           4      1446.0  ...        11          9         0.818182\n",
              "\n",
              "[5 rows x 7 columns]"
            ]
          },
          "metadata": {},
          "execution_count": 11
        }
      ]
    },
    {
      "cell_type": "markdown",
      "metadata": {
        "id": "SVUG0BiaI0y4"
      },
      "source": [
        "# sklearn-LDA"
      ]
    },
    {
      "cell_type": "code",
      "metadata": {
        "colab": {
          "base_uri": "https://localhost:8080/"
        },
        "id": "vcWpYVlTEN2f",
        "outputId": "76f83378-4abe-4c44-ebbf-9c5aea409073"
      },
      "source": [
        "from sklearn.feature_extraction.text import TfidfVectorizer, CountVectorizer\n",
        "from sklearn.decomposition import LatentDirichletAllocation\n",
        "\n",
        "def display_topics(model, feature_names, no_top_words):\n",
        "    for topic_idx, topic in enumerate(model.components_):\n",
        "        print(topic_idx)\n",
        "        print([feature_names[i]\n",
        "                        for i in topic.argsort()[:-no_top_words - 1:-1]])\n",
        "\n",
        "documents = df2.text.values.tolist()\n",
        "\n",
        "no_features = 1000\n",
        "\n",
        "\n",
        "# LDA can only use raw term counts for LDA because it is a probabilistic graphical model\n",
        "tf_vectorizer = CountVectorizer(max_df=0.95, min_df=2, max_features=no_features, stop_words='english')\n",
        "tf = tf_vectorizer.fit_transform(documents)\n",
        "tf_feature_names = tf_vectorizer.get_feature_names()\n",
        "\n",
        "no_topics = 10\n",
        "\n",
        "\n",
        "# Run LDA\n",
        "lda = LatentDirichletAllocation(n_components=no_topics).fit(tf)\n"
      ],
      "execution_count": null,
      "outputs": [
        {
          "output_type": "stream",
          "name": "stderr",
          "text": [
            "/usr/local/lib/python3.7/dist-packages/sklearn/utils/deprecation.py:87: FutureWarning: Function get_feature_names is deprecated; get_feature_names is deprecated in 1.0 and will be removed in 1.2. Please use get_feature_names_out instead.\n",
            "  warnings.warn(msg, category=FutureWarning)\n"
          ]
        }
      ]
    },
    {
      "cell_type": "code",
      "metadata": {
        "colab": {
          "base_uri": "https://localhost:8080/",
          "height": 782
        },
        "id": "kBQHLE7XUFCP",
        "outputId": "e48b8989-58a0-412b-db44-4f042e30a054"
      },
      "source": [
        "import matplotlib.pyplot as plt\n",
        "def plot_top_words(model, feature_names, n_top_words, title):\n",
        "    fig, axes = plt.subplots(2, 5, figsize=(30, 15), sharex=True)\n",
        "    axes = axes.flatten()\n",
        "    for topic_idx, topic in enumerate(model.components_):\n",
        "        top_features_ind = topic.argsort()[: -n_top_words - 1 : -1]\n",
        "        top_features = [feature_names[i] for i in top_features_ind]\n",
        "        weights = topic[top_features_ind]\n",
        "\n",
        "        ax = axes[topic_idx]\n",
        "        ax.barh(top_features, weights, height=0.7)\n",
        "        ax.set_title(f\"Topic {topic_idx +1}\", fontdict={\"fontsize\": 30})\n",
        "        ax.invert_yaxis()\n",
        "        ax.tick_params(axis=\"both\", which=\"major\", labelsize=20)\n",
        "        for i in \"top right left\".split():\n",
        "            ax.spines[i].set_visible(False)\n",
        "        fig.suptitle(title, fontsize=40)\n",
        "\n",
        "    plt.subplots_adjust(top=0.90, bottom=0.05, wspace=0.90, hspace=0.3)\n",
        "    plt.show()\n",
        "\n",
        "n_top_words = 20\n",
        "\n",
        "tf_feature_names = tf_vectorizer.get_feature_names_out()\n",
        "plot_top_words(lda, tf_feature_names, n_top_words, \"Topics in LDA model\")"
      ],
      "execution_count": null,
      "outputs": [
        {
          "output_type": "display_data",
          "data": {
            "image/png": "[encoded data removed]",
            "text/plain": [
              "<Figure size 2160x1080 with 10 Axes>"
            ]
          },
          "metadata": {
            "needs_background": "light"
          }
        }
      ]
    },
    {
      "cell_type": "code",
      "metadata": {
        "id": "ItlG6jDDg3Ip"
      },
      "source": [
        "lda_arrary = lda.transform(tf[:])\n",
        "\n",
        "df_lda = pd.DataFrame(lda_arrary)\n",
        "\n",
        "df_lda_num = df_lda.apply(pd.to_numeric)\n",
        "\n",
        "df_lda_num['Max'] = df_lda_num.idxmax(axis=1)\n",
        "\n",
        "df_lda_cat = df_lda_num['Max']\n",
        "\n",
        "# df_lda_cat"
      ],
      "execution_count": null,
      "outputs": []
    },
    {
      "cell_type": "code",
      "metadata": {
        "id": "f5rium6ucdvU",
        "colab": {
          "base_uri": "https://localhost:8080/",
          "height": 424
        },
        "outputId": "45ca3fa4-abe1-40de-c91d-8898c57edcb4"
      },
      "source": [
        "df_join = df2.join(df_lda_cat, how='outer')\n",
        "df_join"
      ],
      "execution_count": null,
      "outputs": [
        {
          "output_type": "execute_result",
          "data": {
            "text/html": [
              "<div>\n",
              "<style scoped>\n",
              "    .dataframe tbody tr th:only-of-type {\n",
              "        vertical-align: middle;\n",
              "    }\n",
              "\n",
              "    .dataframe tbody tr th {\n",
              "        vertical-align: top;\n",
              "    }\n",
              "\n",
              "    .dataframe thead th {\n",
              "        text-align: right;\n",
              "    }\n",
              "</style>\n",
              "<table border=\"1\" class=\"dataframe\">\n",
              "  <thead>\n",
              "    <tr style=\"text-align: right;\">\n",
              "      <th></th>\n",
              "      <th>labels</th>\n",
              "      <th>vid_length</th>\n",
              "      <th>passed_day</th>\n",
              "      <th>text</th>\n",
              "      <th>title_len</th>\n",
              "      <th>Uppercase</th>\n",
              "      <th>Uppercase_ratio</th>\n",
              "      <th>Max</th>\n",
              "    </tr>\n",
              "  </thead>\n",
              "  <tbody>\n",
              "    <tr>\n",
              "      <th>0</th>\n",
              "      <td>1</td>\n",
              "      <td>10</td>\n",
              "      <td>926.0</td>\n",
              "      <td>Simple Things You Can Do To Look Better Enhanc...</td>\n",
              "      <td>11</td>\n",
              "      <td>11</td>\n",
              "      <td>1.000000</td>\n",
              "      <td>8</td>\n",
              "    </tr>\n",
              "    <tr>\n",
              "      <th>1</th>\n",
              "      <td>1</td>\n",
              "      <td>12</td>\n",
              "      <td>1201.0</td>\n",
              "      <td>How to Look Good Everyday Secrets to Live By</td>\n",
              "      <td>9</td>\n",
              "      <td>7</td>\n",
              "      <td>0.777778</td>\n",
              "      <td>8</td>\n",
              "    </tr>\n",
              "    <tr>\n",
              "      <th>2</th>\n",
              "      <td>1</td>\n",
              "      <td>6</td>\n",
              "      <td>1423.0</td>\n",
              "      <td>How To Look Stylish Everyday Steps to Getting ...</td>\n",
              "      <td>9</td>\n",
              "      <td>8</td>\n",
              "      <td>0.888889</td>\n",
              "      <td>3</td>\n",
              "    </tr>\n",
              "    <tr>\n",
              "      <th>3</th>\n",
              "      <td>1</td>\n",
              "      <td>9</td>\n",
              "      <td>1327.0</td>\n",
              "      <td>How To Build a Classic Wardrobe</td>\n",
              "      <td>6</td>\n",
              "      <td>5</td>\n",
              "      <td>0.833333</td>\n",
              "      <td>7</td>\n",
              "    </tr>\n",
              "    <tr>\n",
              "      <th>4</th>\n",
              "      <td>1</td>\n",
              "      <td>4</td>\n",
              "      <td>1446.0</td>\n",
              "      <td>Casual Date Night Outfits Lookbook What to Wea...</td>\n",
              "      <td>11</td>\n",
              "      <td>9</td>\n",
              "      <td>0.818182</td>\n",
              "      <td>0</td>\n",
              "    </tr>\n",
              "    <tr>\n",
              "      <th>...</th>\n",
              "      <td>...</td>\n",
              "      <td>...</td>\n",
              "      <td>...</td>\n",
              "      <td>...</td>\n",
              "      <td>...</td>\n",
              "      <td>...</td>\n",
              "      <td>...</td>\n",
              "      <td>...</td>\n",
              "    </tr>\n",
              "    <tr>\n",
              "      <th>6984</th>\n",
              "      <td>0</td>\n",
              "      <td>5</td>\n",
              "      <td>3864.0</td>\n",
              "      <td>Fall Scarf Collection Favorites</td>\n",
              "      <td>4</td>\n",
              "      <td>4</td>\n",
              "      <td>1.000000</td>\n",
              "      <td>4</td>\n",
              "    </tr>\n",
              "    <tr>\n",
              "      <th>6985</th>\n",
              "      <td>0</td>\n",
              "      <td>12</td>\n",
              "      <td>301.0</td>\n",
              "      <td>sq ft NYC Hotel Hours in New York City</td>\n",
              "      <td>9</td>\n",
              "      <td>8</td>\n",
              "      <td>0.888889</td>\n",
              "      <td>5</td>\n",
              "    </tr>\n",
              "    <tr>\n",
              "      <th>6986</th>\n",
              "      <td>0</td>\n",
              "      <td>8</td>\n",
              "      <td>29.0</td>\n",
              "      <td>Real Girl Talk health update anxiety and movin...</td>\n",
              "      <td>12</td>\n",
              "      <td>3</td>\n",
              "      <td>0.250000</td>\n",
              "      <td>3</td>\n",
              "    </tr>\n",
              "    <tr>\n",
              "      <th>6987</th>\n",
              "      <td>0</td>\n",
              "      <td>7</td>\n",
              "      <td>12.0</td>\n",
              "      <td>MY NIGHT ROUTINE cottagecore diys mochi donuts</td>\n",
              "      <td>7</td>\n",
              "      <td>14</td>\n",
              "      <td>2.000000</td>\n",
              "      <td>0</td>\n",
              "    </tr>\n",
              "    <tr>\n",
              "      <th>6988</th>\n",
              "      <td>0</td>\n",
              "      <td>7</td>\n",
              "      <td>3882.0</td>\n",
              "      <td>Lumiere Cosmetics Haul Swatches Part</td>\n",
              "      <td>5</td>\n",
              "      <td>5</td>\n",
              "      <td>1.000000</td>\n",
              "      <td>4</td>\n",
              "    </tr>\n",
              "  </tbody>\n",
              "</table>\n",
              "<p>6989 rows × 8 columns</p>\n",
              "</div>"
            ],
            "text/plain": [
              "     labels  vid_length  passed_day  ... Uppercase  Uppercase_ratio  Max\n",
              "0         1          10       926.0  ...        11         1.000000    8\n",
              "1         1          12      1201.0  ...         7         0.777778    8\n",
              "2         1           6      1423.0  ...         8         0.888889    3\n",
              "3         1           9      1327.0  ...         5         0.833333    7\n",
              "4         1           4      1446.0  ...         9         0.818182    0\n",
              "...     ...         ...         ...  ...       ...              ...  ...\n",
              "6984      0           5      3864.0  ...         4         1.000000    4\n",
              "6985      0          12       301.0  ...         8         0.888889    5\n",
              "6986      0           8        29.0  ...         3         0.250000    3\n",
              "6987      0           7        12.0  ...        14         2.000000    0\n",
              "6988      0           7      3882.0  ...         5         1.000000    4\n",
              "\n",
              "[6989 rows x 8 columns]"
            ]
          },
          "metadata": {},
          "execution_count": 15
        }
      ]
    },
    {
      "cell_type": "markdown",
      "metadata": {
        "id": "LMCM-lpNw6GN"
      },
      "source": [
        "# Sentiment analysis/Intensity"
      ]
    },
    {
      "cell_type": "code",
      "metadata": {
        "colab": {
          "base_uri": "https://localhost:8080/"
        },
        "id": "6bSB5cRaPzMf",
        "outputId": "d73ba153-67c7-4fc6-9a79-7407c4a127e2"
      },
      "source": [
        "import nltk\n",
        "nltk.download('vader_lexicon')\n",
        "from nltk.sentiment.vader import SentimentIntensityAnalyzer\n",
        "\n",
        "sid = SentimentIntensityAnalyzer()\n",
        "\n",
        "blanks = []  # start with an empty list\n",
        "\n",
        "df_simple = df_join[['text','labels']]\n",
        "\n",
        "for i,lb,rv in df_simple.itertuples():  \n",
        "    if type(rv)==str:            \n",
        "        if rv.isspace():        \n",
        "            blanks.append(i)     \n",
        "\n",
        "\n",
        "df_join['scores'] = df_join['text'].apply(lambda title: sid.polarity_scores(title))\n",
        "\n",
        "\n",
        "df_join['compound']  = df_join['scores'].apply(lambda score_dict: score_dict['compound'])"
      ],
      "execution_count": null,
      "outputs": [
        {
          "output_type": "stream",
          "name": "stdout",
          "text": [
            "[nltk_data] Downloading package vader_lexicon to /root/nltk_data...\n"
          ]
        },
        {
          "output_type": "stream",
          "name": "stderr",
          "text": [
            "/usr/local/lib/python3.7/dist-packages/nltk/twitter/__init__.py:20: UserWarning: The twython library has not been installed. Some functionality from the twitter package will not be available.\n",
            "  warnings.warn(\"The twython library has not been installed. \"\n"
          ]
        }
      ]
    },
    {
      "cell_type": "code",
      "metadata": {
        "colab": {
          "base_uri": "https://localhost:8080/",
          "height": 206
        },
        "id": "88RZ0FlaoyAl",
        "outputId": "3f2a8650-ae92-4ef8-968a-3570046e2b5c"
      },
      "source": [
        "df_final = df_join.drop(columns = ['Uppercase', 'scores'])\n",
        "df_final.head()"
      ],
      "execution_count": null,
      "outputs": [
        {
          "output_type": "execute_result",
          "data": {
            "text/html": [
              "<div>\n",
              "<style scoped>\n",
              "    .dataframe tbody tr th:only-of-type {\n",
              "        vertical-align: middle;\n",
              "    }\n",
              "\n",
              "    .dataframe tbody tr th {\n",
              "        vertical-align: top;\n",
              "    }\n",
              "\n",
              "    .dataframe thead th {\n",
              "        text-align: right;\n",
              "    }\n",
              "</style>\n",
              "<table border=\"1\" class=\"dataframe\">\n",
              "  <thead>\n",
              "    <tr style=\"text-align: right;\">\n",
              "      <th></th>\n",
              "      <th>labels</th>\n",
              "      <th>vid_length</th>\n",
              "      <th>passed_day</th>\n",
              "      <th>text</th>\n",
              "      <th>title_len</th>\n",
              "      <th>Uppercase_ratio</th>\n",
              "      <th>Max</th>\n",
              "      <th>compound</th>\n",
              "    </tr>\n",
              "  </thead>\n",
              "  <tbody>\n",
              "    <tr>\n",
              "      <th>0</th>\n",
              "      <td>1</td>\n",
              "      <td>10</td>\n",
              "      <td>926.0</td>\n",
              "      <td>Simple Things You Can Do To Look Better Enhanc...</td>\n",
              "      <td>11</td>\n",
              "      <td>1.000000</td>\n",
              "      <td>8</td>\n",
              "      <td>0.4404</td>\n",
              "    </tr>\n",
              "    <tr>\n",
              "      <th>1</th>\n",
              "      <td>1</td>\n",
              "      <td>12</td>\n",
              "      <td>1201.0</td>\n",
              "      <td>How to Look Good Everyday Secrets to Live By</td>\n",
              "      <td>9</td>\n",
              "      <td>0.777778</td>\n",
              "      <td>8</td>\n",
              "      <td>0.4404</td>\n",
              "    </tr>\n",
              "    <tr>\n",
              "      <th>2</th>\n",
              "      <td>1</td>\n",
              "      <td>6</td>\n",
              "      <td>1423.0</td>\n",
              "      <td>How To Look Stylish Everyday Steps to Getting ...</td>\n",
              "      <td>9</td>\n",
              "      <td>0.888889</td>\n",
              "      <td>3</td>\n",
              "      <td>0.0000</td>\n",
              "    </tr>\n",
              "    <tr>\n",
              "      <th>3</th>\n",
              "      <td>1</td>\n",
              "      <td>9</td>\n",
              "      <td>1327.0</td>\n",
              "      <td>How To Build a Classic Wardrobe</td>\n",
              "      <td>6</td>\n",
              "      <td>0.833333</td>\n",
              "      <td>7</td>\n",
              "      <td>0.0000</td>\n",
              "    </tr>\n",
              "    <tr>\n",
              "      <th>4</th>\n",
              "      <td>1</td>\n",
              "      <td>4</td>\n",
              "      <td>1446.0</td>\n",
              "      <td>Casual Date Night Outfits Lookbook What to Wea...</td>\n",
              "      <td>11</td>\n",
              "      <td>0.818182</td>\n",
              "      <td>0</td>\n",
              "      <td>0.2023</td>\n",
              "    </tr>\n",
              "  </tbody>\n",
              "</table>\n",
              "</div>"
            ],
            "text/plain": [
              "  labels  vid_length  passed_day  ... Uppercase_ratio  Max  compound\n",
              "0      1          10       926.0  ...        1.000000    8    0.4404\n",
              "1      1          12      1201.0  ...        0.777778    8    0.4404\n",
              "2      1           6      1423.0  ...        0.888889    3    0.0000\n",
              "3      1           9      1327.0  ...        0.833333    7    0.0000\n",
              "4      1           4      1446.0  ...        0.818182    0    0.2023\n",
              "\n",
              "[5 rows x 8 columns]"
            ]
          },
          "metadata": {},
          "execution_count": 17
        }
      ]
    },
    {
      "cell_type": "markdown",
      "metadata": {
        "id": "Qe8-dirpUjg8"
      },
      "source": [
        "We see that the data contains both text in the `Review Text` and `Title` column as well as tabular features in the `Division Name`, `Department Name`, and `Class Name` columns. "
      ]
    },
    {
      "cell_type": "code",
      "metadata": {
        "colab": {
          "base_uri": "https://localhost:8080/",
          "height": 175
        },
        "id": "kpzF_0erRsuI",
        "outputId": "1ea70805-630c-4caa-dfb6-c0de9fabf6cf"
      },
      "source": [
        "df_final.describe(include=np.object)"
      ],
      "execution_count": null,
      "outputs": [
        {
          "output_type": "execute_result",
          "data": {
            "text/html": [
              "<div>\n",
              "<style scoped>\n",
              "    .dataframe tbody tr th:only-of-type {\n",
              "        vertical-align: middle;\n",
              "    }\n",
              "\n",
              "    .dataframe tbody tr th {\n",
              "        vertical-align: top;\n",
              "    }\n",
              "\n",
              "    .dataframe thead th {\n",
              "        text-align: right;\n",
              "    }\n",
              "</style>\n",
              "<table border=\"1\" class=\"dataframe\">\n",
              "  <thead>\n",
              "    <tr style=\"text-align: right;\">\n",
              "      <th></th>\n",
              "      <th>text</th>\n",
              "    </tr>\n",
              "  </thead>\n",
              "  <tbody>\n",
              "    <tr>\n",
              "      <th>count</th>\n",
              "      <td>6989</td>\n",
              "    </tr>\n",
              "    <tr>\n",
              "      <th>unique</th>\n",
              "      <td>6808</td>\n",
              "    </tr>\n",
              "    <tr>\n",
              "      <th>top</th>\n",
              "      <td>April Favorites</td>\n",
              "    </tr>\n",
              "    <tr>\n",
              "      <th>freq</th>\n",
              "      <td>8</td>\n",
              "    </tr>\n",
              "  </tbody>\n",
              "</table>\n",
              "</div>"
            ],
            "text/plain": [
              "                   text\n",
              "count              6989\n",
              "unique             6808\n",
              "top     April Favorites\n",
              "freq                  8"
            ]
          },
          "metadata": {},
          "execution_count": 18
        }
      ]
    },
    {
      "cell_type": "code",
      "metadata": {
        "colab": {
          "base_uri": "https://localhost:8080/",
          "height": 300
        },
        "id": "VSFD6Jl0RsuO",
        "outputId": "3e269d1f-3739-451a-ca1e-4bea0314ab2a"
      },
      "source": [
        "df_final.describe()"
      ],
      "execution_count": null,
      "outputs": [
        {
          "output_type": "execute_result",
          "data": {
            "text/html": [
              "<div>\n",
              "<style scoped>\n",
              "    .dataframe tbody tr th:only-of-type {\n",
              "        vertical-align: middle;\n",
              "    }\n",
              "\n",
              "    .dataframe tbody tr th {\n",
              "        vertical-align: top;\n",
              "    }\n",
              "\n",
              "    .dataframe thead th {\n",
              "        text-align: right;\n",
              "    }\n",
              "</style>\n",
              "<table border=\"1\" class=\"dataframe\">\n",
              "  <thead>\n",
              "    <tr style=\"text-align: right;\">\n",
              "      <th></th>\n",
              "      <th>vid_length</th>\n",
              "      <th>passed_day</th>\n",
              "      <th>title_len</th>\n",
              "      <th>Uppercase_ratio</th>\n",
              "      <th>Max</th>\n",
              "      <th>compound</th>\n",
              "    </tr>\n",
              "  </thead>\n",
              "  <tbody>\n",
              "    <tr>\n",
              "      <th>count</th>\n",
              "      <td>6989.000000</td>\n",
              "      <td>6989.000000</td>\n",
              "      <td>6989.000000</td>\n",
              "      <td>6989.000000</td>\n",
              "      <td>6989.000000</td>\n",
              "      <td>6989.000000</td>\n",
              "    </tr>\n",
              "    <tr>\n",
              "      <th>mean</th>\n",
              "      <td>10.313206</td>\n",
              "      <td>1329.096151</td>\n",
              "      <td>6.437115</td>\n",
              "      <td>2.074956</td>\n",
              "      <td>4.293747</td>\n",
              "      <td>0.107427</td>\n",
              "    </tr>\n",
              "    <tr>\n",
              "      <th>std</th>\n",
              "      <td>6.715510</td>\n",
              "      <td>822.655465</td>\n",
              "      <td>2.627504</td>\n",
              "      <td>1.778889</td>\n",
              "      <td>2.844922</td>\n",
              "      <td>0.265145</td>\n",
              "    </tr>\n",
              "    <tr>\n",
              "      <th>min</th>\n",
              "      <td>1.000000</td>\n",
              "      <td>-236.000000</td>\n",
              "      <td>1.000000</td>\n",
              "      <td>0.000000</td>\n",
              "      <td>0.000000</td>\n",
              "      <td>-0.824000</td>\n",
              "    </tr>\n",
              "    <tr>\n",
              "      <th>25%</th>\n",
              "      <td>6.000000</td>\n",
              "      <td>725.000000</td>\n",
              "      <td>5.000000</td>\n",
              "      <td>1.000000</td>\n",
              "      <td>2.000000</td>\n",
              "      <td>0.000000</td>\n",
              "    </tr>\n",
              "    <tr>\n",
              "      <th>50%</th>\n",
              "      <td>9.000000</td>\n",
              "      <td>1232.000000</td>\n",
              "      <td>6.000000</td>\n",
              "      <td>1.000000</td>\n",
              "      <td>4.000000</td>\n",
              "      <td>0.000000</td>\n",
              "    </tr>\n",
              "    <tr>\n",
              "      <th>75%</th>\n",
              "      <td>13.000000</td>\n",
              "      <td>1796.000000</td>\n",
              "      <td>8.000000</td>\n",
              "      <td>3.000000</td>\n",
              "      <td>7.000000</td>\n",
              "      <td>0.273200</td>\n",
              "    </tr>\n",
              "    <tr>\n",
              "      <th>max</th>\n",
              "      <td>59.000000</td>\n",
              "      <td>4160.000000</td>\n",
              "      <td>19.000000</td>\n",
              "      <td>13.000000</td>\n",
              "      <td>9.000000</td>\n",
              "      <td>0.944200</td>\n",
              "    </tr>\n",
              "  </tbody>\n",
              "</table>\n",
              "</div>"
            ],
            "text/plain": [
              "        vid_length   passed_day  ...          Max     compound\n",
              "count  6989.000000  6989.000000  ...  6989.000000  6989.000000\n",
              "mean     10.313206  1329.096151  ...     4.293747     0.107427\n",
              "std       6.715510   822.655465  ...     2.844922     0.265145\n",
              "min       1.000000  -236.000000  ...     0.000000    -0.824000\n",
              "25%       6.000000   725.000000  ...     2.000000     0.000000\n",
              "50%       9.000000  1232.000000  ...     4.000000     0.000000\n",
              "75%      13.000000  1796.000000  ...     7.000000     0.273200\n",
              "max      59.000000  4160.000000  ...     9.000000     0.944200\n",
              "\n",
              "[8 rows x 6 columns]"
            ]
          },
          "metadata": {},
          "execution_count": 19
        }
      ]
    },
    {
      "cell_type": "markdown",
      "metadata": {
        "id": "kOqO-hyaV6Dr"
      },
      "source": [
        "In this demonstration, we split our data into 8:1:1 training splits. We also save our splits to `train.csv`, `val.csv`, and `test.csv` as this is the format our dataloader requires.\n"
      ]
    },
    {
      "cell_type": "code",
      "metadata": {
        "id": "NOAIWg0Pt_jX"
      },
      "source": [
        "df_final.to_csv( \"/content/gdrive/My Drive/MAS-thesis/final_full_youtube_data_2.csv\", index=False, encoding='utf-8-sig')"
      ],
      "execution_count": null,
      "outputs": []
    }
  ]
}