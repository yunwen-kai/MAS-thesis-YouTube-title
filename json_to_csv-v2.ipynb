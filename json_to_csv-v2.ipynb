{
 "cells": [
  {
   "cell_type": "code",
   "execution_count": 38,
   "metadata": {},
   "outputs": [],
   "source": [
    "import json\n",
    "import pandas as pd\n",
    "\n",
    "file = \"data/alex_centomo.json\"\n",
    "data = None\n",
    "with open(file, 'r') as f:\n",
    "    data = json.load(f)\n",
    "    \n",
    "channel_id, stats = data.popitem()\n",
    "\n",
    "channel_stats = stats[\"channel_statistics\"]\n",
    "video_stats = stats[\"video_data\"]"
   ]
  },
  {
   "cell_type": "code",
   "execution_count": 42,
   "metadata": {},
   "outputs": [
    {
     "ename": "KeyError",
     "evalue": "'tags'",
     "output_type": "error",
     "traceback": [
      "\u001b[0;31m---------------------------------------------------------------------------\u001b[0m",
      "\u001b[0;31mKeyError\u001b[0m                                  Traceback (most recent call last)",
      "\u001b[0;32m<ipython-input-42-e537878411a4>\u001b[0m in \u001b[0;36m<module>\u001b[0;34m\u001b[0m\n\u001b[1;32m     12\u001b[0m     \u001b[0mtitle\u001b[0m \u001b[0;34m=\u001b[0m \u001b[0mvid\u001b[0m\u001b[0;34m[\u001b[0m\u001b[0;36m1\u001b[0m\u001b[0;34m]\u001b[0m\u001b[0;34m[\u001b[0m\u001b[0;34m\"title\"\u001b[0m\u001b[0;34m]\u001b[0m\u001b[0;34m\u001b[0m\u001b[0;34m\u001b[0m\u001b[0m\n\u001b[1;32m     13\u001b[0m \u001b[0;34m\u001b[0m\u001b[0m\n\u001b[0;32m---> 14\u001b[0;31m     \u001b[0morig_tags\u001b[0m \u001b[0;34m=\u001b[0m \u001b[0mvid\u001b[0m\u001b[0;34m[\u001b[0m\u001b[0;36m1\u001b[0m\u001b[0;34m]\u001b[0m\u001b[0;34m[\u001b[0m\u001b[0;34m\"tags\"\u001b[0m\u001b[0;34m]\u001b[0m\u001b[0;34m\u001b[0m\u001b[0;34m\u001b[0m\u001b[0m\n\u001b[0m\u001b[1;32m     15\u001b[0m     \u001b[0mtags\u001b[0m \u001b[0;34m=\u001b[0m \u001b[0mlist_to_str\u001b[0m\u001b[0;34m(\u001b[0m\u001b[0morig_tags\u001b[0m\u001b[0;34m)\u001b[0m\u001b[0;34m\u001b[0m\u001b[0;34m\u001b[0m\u001b[0m\n\u001b[1;32m     16\u001b[0m \u001b[0;34m\u001b[0m\u001b[0m\n",
      "\u001b[0;31mKeyError\u001b[0m: 'tags'"
     ]
    }
   ],
   "source": [
    "# video statistics\n",
    "sorted_vids = sorted(video_stats.items(),\n",
    "                     key=lambda item:int(item[1][\"viewCount\"]),reverse = True)\n",
    "\n",
    "stats = []\n",
    "for vid in sorted_vids:\n",
    "    channelTitle = vid[1][\"channelTitle\"]\n",
    "    publishedAt = vid[1][\"publishedAt\"]\n",
    "    title = vid[1][\"title\"]\n",
    "\n",
    "    description = vid[1][\"description\"]\n",
    "    viewCount = vid[1][\"viewCount\"]\n",
    "    likeCount = vid[1][\"likeCount\"]\n",
    "    dislikeCount = vid[1][\"dislikeCount\"]\n",
    "#     commentCount = vid[1][\"commentCount\"]\n",
    "    categoryId = vid[1][\"categoryId\"]\n",
    "    duration = vid[1][\"duration\"]\n",
    "    dimension = vid[1][\"dimension\"]\n",
    "    definition = vid[1][\"definition\"]\n",
    "    caption = vid[1][\"caption\"]\n",
    "    \n",
    "    stats.append([channelTitle,video_id,publishedAt,title,description,viewCount,\n",
    "                  likeCount,dislikeCount,categoryId,duration,dimension,definition,caption])\n",
    "    "
   ]
  },
  {
   "cell_type": "code",
   "execution_count": 10,
   "metadata": {},
   "outputs": [],
   "source": [
    "\n",
    "df = pd.DataFrame(stats, columns=['channelTitle','publishedAt','title','description',\n",
    "                                  'viewCount','likeCount','dislikeCount','categoryId','duration',\n",
    "                                  'dimension','definition','caption'])\n",
    "\n",
    "df['subscriberCount'] = channel_stats[\"subscriberCount\"]\n",
    "\n",
    "df.viewCount = pd.to_numeric(df.viewCount, errors='coerce').astype('Int64')\n",
    "df['rank'] = pd.qcut(df['viewCount'], 3, labels=[1, 2, 3])\n",
    "\n",
    "# df.head()"
   ]
  },
  {
   "cell_type": "code",
   "execution_count": 142,
   "metadata": {},
   "outputs": [],
   "source": [
    "# jenn.im = df\n",
    "# amber_scholl\n",
    "# summer_mckeen = df\n",
    "# mel_joy = df\n",
    "# kelsey_simone = df\n",
    "sarah_rae_vargas = df\n"
   ]
  },
  {
   "cell_type": "code",
   "execution_count": 143,
   "metadata": {},
   "outputs": [],
   "source": [
    "youtuber_group2 = (jenn_im.append(summer_mckeen)\n",
    "                  .append(olivia_jade).append(tess_christine).append(mel_joy)\n",
    "                  .append(kelsey_simone).append(sarah_rae_vargas))"
   ]
  },
  {
   "cell_type": "code",
   "execution_count": 103,
   "metadata": {},
   "outputs": [],
   "source": [
    "# naomi_boyer = df\n",
    "# song_of_style = df\n",
    "# ashley_brooke = df\n",
    "# alex_centomo = df\n",
    "# audrey_coyne = df\n",
    "# amy_lee = df\n",
    "# fashionbyally = df\n",
    "# fiorella_zelaya = df\n",
    "# chriselle_lim = df\n",
    "\n",
    "# youtuber_group1 = (naomi_boyer.append(song_of_style).append(ashley_brooke)\n",
    "#                   .append(amy_lee))\n",
    "\n",
    "# youtuber_group1 = youtuber_group1.drop(columns=['likeCount','dislikeCount','videoCount'])\n",
    "# youtuber_group1 = (youtuber_group1.append(fashionbyally).append(fiorella_zelaya)\n",
    "#                    .append(chriselle_lim).append(alex_centomo).append(audrey_coyne)\n",
    "#                   )\n",
    "# youtuber_group1"
   ]
  },
  {
   "cell_type": "code",
   "execution_count": 144,
   "metadata": {},
   "outputs": [],
   "source": [
    "youtuber_group2.to_csv(r'youtuber_group2.csv', index = None)"
   ]
  }
 ],
 "metadata": {
  "kernelspec": {
   "display_name": "Python 3",
   "language": "python",
   "name": "python3"
  },
  "language_info": {
   "codemirror_mode": {
    "name": "ipython",
    "version": 3
   },
   "file_extension": ".py",
   "mimetype": "text/x-python",
   "name": "python",
   "nbconvert_exporter": "python",
   "pygments_lexer": "ipython3",
   "version": "3.8.5"
  }
 },
 "nbformat": 4,
 "nbformat_minor": 4
}
